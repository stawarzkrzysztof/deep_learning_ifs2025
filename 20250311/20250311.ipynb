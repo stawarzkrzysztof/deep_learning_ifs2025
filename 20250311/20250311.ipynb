{
 "cells": [
  {
   "cell_type": "code",
   "execution_count": 1,
   "metadata": {},
   "outputs": [],
   "source": [
    "import numpy as np"
   ]
  },
  {
   "cell_type": "markdown",
   "metadata": {},
   "source": [
    "Z wykorzystaniem biblioteki NumPy spróbuj zdefiniować:"
   ]
  },
  {
   "cell_type": "markdown",
   "metadata": {},
   "source": [
    "1. wektor [1, 2, 3, 4]"
   ]
  },
  {
   "cell_type": "code",
   "execution_count": 2,
   "metadata": {},
   "outputs": [
    {
     "data": {
      "text/plain": [
       "array([1, 2, 3, 4])"
      ]
     },
     "execution_count": 2,
     "metadata": {},
     "output_type": "execute_result"
    }
   ],
   "source": [
    "wektor = np.array(range(1, 5))\n",
    "wektor"
   ]
  },
  {
   "cell_type": "markdown",
   "metadata": {},
   "source": [
    "2. macierz 2 x 4 złożoną z samych zer"
   ]
  },
  {
   "cell_type": "code",
   "execution_count": 3,
   "metadata": {},
   "outputs": [
    {
     "data": {
      "text/plain": [
       "array([[0., 0., 0., 0.],\n",
       "       [0., 0., 0., 0.]])"
      ]
     },
     "execution_count": 3,
     "metadata": {},
     "output_type": "execute_result"
    }
   ],
   "source": [
    "macierz = np.zeros((2, 4))\n",
    "macierz"
   ]
  },
  {
   "cell_type": "markdown",
   "metadata": {},
   "source": [
    "3. macierz 2 X 5 złożoną z liczb losowych między 0 i 1"
   ]
  },
  {
   "cell_type": "code",
   "execution_count": null,
   "metadata": {},
   "outputs": [
    {
     "data": {
      "text/plain": [
       "array([[0.41396674, 0.25177933, 0.38924108, 0.86090895, 0.02397914],\n",
       "       [0.52776395, 0.83085888, 0.86903616, 0.11676432, 0.79118034]])"
      ]
     },
     "execution_count": 4,
     "metadata": {},
     "output_type": "execute_result"
    }
   ],
   "source": [
    "macierz2 = np.random.random((2, 5))\n",
    "macierz2"
   ]
  },
  {
   "cell_type": "markdown",
   "metadata": {},
   "source": [
    "4. wyjaśnij, co robi funkcja dot?"
   ]
  },
  {
   "cell_type": "code",
   "execution_count": 5,
   "metadata": {},
   "outputs": [
    {
     "data": {
      "text/plain": [
       "20"
      ]
     },
     "execution_count": 5,
     "metadata": {},
     "output_type": "execute_result"
    }
   ],
   "source": [
    "macierz3 = np.array([1, 2,\n",
    "                     3, 4])\n",
    "macierz4 = np. array([4, 3,\n",
    "                      2, 1])\n",
    "\n",
    "np.dot(macierz3, macierz4)"
   ]
  },
  {
   "cell_type": "markdown",
   "metadata": {},
   "source": [
    "`np.dot()` wykonuje działanie na dwóch macierzach, znane jako *dot product* - po polsku **iloczyn skalarny**  \n",
    "$A \\cdot B = A^TB$  \n",
    "w skrocie to mnozy kazdy punkt w macierzy i dodaje do siebie uzyskujac jedna liczbe"
   ]
  },
  {
   "cell_type": "markdown",
   "metadata": {},
   "source": [
    "___"
   ]
  },
  {
   "cell_type": "markdown",
   "metadata": {},
   "source": [
    "Implementacja najprostszej sieci neuronowej z Python służącej do prognozowania, czy\n",
    "pewna drużyna sportowa wygra rozgrywki (w dobie koronawirusa: e-Rozgrywki)\n",
    "1. Wprowadź zmienną (o nazwie: weight) i przypisz jej wartość 0.1"
   ]
  },
  {
   "cell_type": "code",
   "execution_count": 6,
   "metadata": {},
   "outputs": [],
   "source": [
    "weight = .1"
   ]
  },
  {
   "cell_type": "markdown",
   "metadata": {},
   "source": [
    "2. Zdefiniuj prostą funkcję (o nazwie: neural_network) przyjmującą dwa parametry: input oraz utworzoną poprzednio wagę  \n",
    "3. Funkcja powinna zwrócić zmienną (o nazwie: pred), w której przechowana będzie\n",
    "wartość mnożenia (weight*input)"
   ]
  },
  {
   "cell_type": "code",
   "execution_count": 7,
   "metadata": {},
   "outputs": [],
   "source": [
    "def neural_network(weight, input):\n",
    "    pred = weight*input\n",
    "    return pred"
   ]
  },
  {
   "cell_type": "markdown",
   "metadata": {},
   "source": [
    "4. Prosta metoda powinna zostać przetestowana na następujących danych:  \n",
    "- number_of_toes = [8.5, 9.5, 10, 9] - średnia liczba rzutów dla drużyny przed rozpoczęciem e-Rozgrywek\n",
    "- input = number_of_toes[0]\n",
    "- pred = neural_network(input,weight)\n"
   ]
  },
  {
   "cell_type": "code",
   "execution_count": 8,
   "metadata": {},
   "outputs": [],
   "source": [
    "number_of_toes = [8.5, 9.5, 10, 9]\n",
    "input = number_of_toes[0]\n",
    "pred = neural_network(weight, input)\n",
    "\n",
    "assert pred == 8.5*.1"
   ]
  },
  {
   "cell_type": "markdown",
   "metadata": {},
   "source": [
    "5. Wyświetl uzyskany wynik i wpisz go w odpowiedziach  "
   ]
  },
  {
   "cell_type": "code",
   "execution_count": 9,
   "metadata": {},
   "outputs": [
    {
     "data": {
      "text/plain": [
       "0.8500000000000001"
      ]
     },
     "execution_count": 9,
     "metadata": {},
     "output_type": "execute_result"
    }
   ],
   "source": [
    "pred"
   ]
  },
  {
   "cell_type": "markdown",
   "metadata": {},
   "source": [
    "6. Powtórz eksperyment dla pozostałych danych 9.5, 10 oraz 9"
   ]
  },
  {
   "cell_type": "code",
   "execution_count": 10,
   "metadata": {},
   "outputs": [
    {
     "data": {
      "text/plain": [
       "0.9500000000000001"
      ]
     },
     "execution_count": 10,
     "metadata": {},
     "output_type": "execute_result"
    }
   ],
   "source": [
    "neural_network(number_of_toes[1], weight)"
   ]
  },
  {
   "cell_type": "code",
   "execution_count": 11,
   "metadata": {},
   "outputs": [
    {
     "data": {
      "text/plain": [
       "1.0"
      ]
     },
     "execution_count": 11,
     "metadata": {},
     "output_type": "execute_result"
    }
   ],
   "source": [
    "neural_network(number_of_toes[2], weight)"
   ]
  },
  {
   "cell_type": "markdown",
   "metadata": {},
   "source": [
    "Wykonamy teraz prognozę dla wielu danych wejściowych – w takim przypadku prosta sieć neuronowa powinna wykonywać bardziej dokładne prognozy  \n",
    "zbiór toes – bieżąca średnia udanych rzutów na gracza  \n",
    "zbiór wlrec – bieżąca liczba zwycięstw (procentowo)  \n",
    "zbiór nfans – liczba kibiców (w milionach)  "
   ]
  },
  {
   "cell_type": "code",
   "execution_count": 42,
   "metadata": {},
   "outputs": [],
   "source": [
    "toes =  [8.50, 9.50, 9.90, 9.00]\n",
    "wlrec = [0.65, 0.80, 0.80, 0.90]\n",
    "nfans = [1.20, 1.30, 0.50, 1.00]\n",
    "\n",
    "input = [toes[0], wlrec[0], nfans[0]]\n",
    "weights = [0.1, 0.2, 0.0]"
   ]
  },
  {
   "cell_type": "code",
   "execution_count": null,
   "metadata": {},
   "outputs": [],
   "source": [
    "def w_sum(input, weights):\n",
    "    return sum([i*w for i, w in zip(input, weights)]) if len(input)==len(weights) else None"
   ]
  },
  {
   "cell_type": "code",
   "execution_count": 44,
   "metadata": {},
   "outputs": [],
   "source": [
    "def neural_network(input, weights):\n",
    "    pred = w_sum(input, weights)\n",
    "    return pred"
   ]
  },
  {
   "cell_type": "code",
   "execution_count": null,
   "metadata": {},
   "outputs": [
    {
     "ename": "TypeError",
     "evalue": "'float' object is not callable",
     "output_type": "error",
     "traceback": [
      "\u001b[0;31m---------------------------------------------------------------------------\u001b[0m",
      "\u001b[0;31mTypeError\u001b[0m                                 Traceback (most recent call last)",
      "Cell \u001b[0;32mIn[45], line 1\u001b[0m\n\u001b[0;32m----> 1\u001b[0m \u001b[43mpred\u001b[49m\u001b[43m(\u001b[49m\u001b[43m[\u001b[49m\u001b[43mtoes\u001b[49m\u001b[43m[\u001b[49m\u001b[38;5;241;43m0\u001b[39;49m\u001b[43m]\u001b[49m\u001b[43m,\u001b[49m\u001b[43m \u001b[49m\u001b[43mwlrec\u001b[49m\u001b[43m[\u001b[49m\u001b[38;5;241;43m0\u001b[39;49m\u001b[43m]\u001b[49m\u001b[43m,\u001b[49m\u001b[43m \u001b[49m\u001b[43mnfans\u001b[49m\u001b[43m[\u001b[49m\u001b[38;5;241;43m0\u001b[39;49m\u001b[43m]\u001b[49m\u001b[43m]\u001b[49m\u001b[43m,\u001b[49m\u001b[43m \u001b[49m\u001b[43m[\u001b[49m\u001b[38;5;241;43m0.1\u001b[39;49m\u001b[43m,\u001b[49m\u001b[43m \u001b[49m\u001b[38;5;241;43m0.2\u001b[39;49m\u001b[43m,\u001b[49m\u001b[43m \u001b[49m\u001b[38;5;241;43m0.0\u001b[39;49m\u001b[43m]\u001b[49m\u001b[43m)\u001b[49m\n",
      "\u001b[0;31mTypeError\u001b[0m: 'float' object is not callable"
     ]
    }
   ],
   "source": [
    "pred([toes[0], wlrec[0], nfans[0]], [0.1, 0.2, 0.0])\n",
    "#TODO: naprawic"
   ]
  },
  {
   "cell_type": "code",
   "execution_count": null,
   "metadata": {},
   "outputs": [],
   "source": []
  }
 ],
 "metadata": {
  "kernelspec": {
   "display_name": "deep_learning_pieta",
   "language": "python",
   "name": "python3"
  },
  "language_info": {
   "codemirror_mode": {
    "name": "ipython",
    "version": 3
   },
   "file_extension": ".py",
   "mimetype": "text/x-python",
   "name": "python",
   "nbconvert_exporter": "python",
   "pygments_lexer": "ipython3",
   "version": "3.10.16"
  }
 },
 "nbformat": 4,
 "nbformat_minor": 2
}
