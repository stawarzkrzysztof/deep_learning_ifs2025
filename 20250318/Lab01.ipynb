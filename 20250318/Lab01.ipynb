{
  "cells": [
    {
      "cell_type": "markdown",
      "metadata": {
        "id": "UtTlA1fCMpup"
      },
      "source": [
        "# Sieci neuronowe z wykorzystaniem Kerasa (1)\n",
        "## Głębokie uczenie\n",
        "\n",
        "# 1. Podstawy\n"
      ]
    },
    {
      "cell_type": "markdown",
      "metadata": {
        "id": "I9SBICeSNUfy"
      },
      "source": [
        "**Zanim przejdziemy do bardziej zaawansowanego przykładu, zapoznamy się z Tensorflow i Keras. Przyjrzymy się pierwszemu konkretnemu przykładowi sieci neuronowej, która wykorzystuje bibliotekę Python Keras do nauki klasyfikacji odręcznie pisanych cyfr.**\n",
        "\n",
        "Problemem, który staramy się rozwiązać, jest klasyfikacja obrazów pogrubiony tekstodręcznych cyfr w skali szarości (28 pikseli na 28 pikseli) do 10 kategorii (od 0 do 9). Zbiór danych, którego użyjemy to MNIST. Jest to zestaw 60 000 obrazów treningowych plus 10 000 obrazów testowych, zebranych przez National Institute of Standards and Technology (NIST w MNIST) w latach 80-tych.\n",
        "\n",
        "Możesz myśleć o \"rozwiązywaniu\" MNIST jako o \"Hello World\" głębokiego uczenia się - to jest to, co robisz, aby sprawdzić, czy twoje algorytmy działają zgodnie z oczekiwaniami.\n",
        "\n",
        "Po pierwsze, zaimportujemy Keras (w oparciu o wersję Python/Tensorflow):"
      ]
    },
    {
      "cell_type": "code",
      "execution_count": 1,
      "metadata": {
        "id": "c0Q_VZGlNT1j"
      },
      "outputs": [],
      "source": [
        "import tensorflow as tf\n",
        "from tensorflow import keras"
      ]
    },
    {
      "cell_type": "markdown",
      "metadata": {
        "id": "G6_jY1oOO5YY"
      },
      "source": [
        "Jeśli korzystasz z najnowszej wersji Tensorflow (keras jest już dołączony), dodaj dodatkową funkcjonalność za pomocą:\n",
        "\n",
        "```\n",
        "from tensorflow import keras\n",
        "from tensorflow.keras import XXX\n",
        "```\n",
        "\n",
        "Zbiór danych MNIST jest wstępnie załadowany do Keras w postaci zestawu czterech tablic Numpy:"
      ]
    },
    {
      "cell_type": "code",
      "execution_count": 2,
      "metadata": {
        "id": "sSYMk1IQPUwY"
      },
      "outputs": [],
      "source": [
        "(train_images, train_labels), (test_images, test_labels) = tf.keras.datasets.mnist.load_data()"
      ]
    },
    {
      "cell_type": "markdown",
      "metadata": {
        "id": "FS2FZz-VPcUv"
      },
      "source": [
        "**Zadanie 1**\n",
        "\n",
        "*   Sprawdź liczbę przykładów treningowych i testowych."
      ]
    },
    {
      "cell_type": "code",
      "execution_count": 3,
      "metadata": {},
      "outputs": [
        {
          "data": {
            "text/plain": [
              "60000"
            ]
          },
          "execution_count": 3,
          "metadata": {},
          "output_type": "execute_result"
        }
      ],
      "source": [
        "train_images.shape[0]"
      ]
    },
    {
      "cell_type": "code",
      "execution_count": 4,
      "metadata": {},
      "outputs": [
        {
          "data": {
            "text/plain": [
              "10000"
            ]
          },
          "execution_count": 4,
          "metadata": {},
          "output_type": "execute_result"
        }
      ],
      "source": [
        "test_images.shape[0]"
      ]
    },
    {
      "cell_type": "markdown",
      "metadata": {},
      "source": [
        "*   Ile mamy etykiet?"
      ]
    },
    {
      "cell_type": "code",
      "execution_count": 5,
      "metadata": {},
      "outputs": [
        {
          "data": {
            "text/plain": [
              "60000"
            ]
          },
          "execution_count": 5,
          "metadata": {},
          "output_type": "execute_result"
        }
      ],
      "source": [
        "train_labels.shape[0]"
      ]
    },
    {
      "cell_type": "code",
      "execution_count": 6,
      "metadata": {},
      "outputs": [
        {
          "data": {
            "text/plain": [
              "10000"
            ]
          },
          "execution_count": 6,
          "metadata": {},
          "output_type": "execute_result"
        }
      ],
      "source": [
        "test_labels.shape[0]"
      ]
    },
    {
      "cell_type": "markdown",
      "metadata": {},
      "source": [
        "*   Sprawdź rozmiar obrazu i wykreśl kilka przykładów\n"
      ]
    },
    {
      "cell_type": "code",
      "execution_count": 7,
      "metadata": {},
      "outputs": [
        {
          "data": {
            "text/plain": [
              "(28, 28)"
            ]
          },
          "execution_count": 7,
          "metadata": {},
          "output_type": "execute_result"
        }
      ],
      "source": [
        "train_images.shape[1:]"
      ]
    },
    {
      "cell_type": "code",
      "execution_count": 8,
      "metadata": {},
      "outputs": [],
      "source": [
        "import numpy as np\n",
        "import matplotlib.pyplot as plt"
      ]
    },
    {
      "cell_type": "code",
      "execution_count": 9,
      "metadata": {},
      "outputs": [
        {
          "data": {
            "image/png": "[encoded data removed]",
            "text/plain": [
              "<Figure size 100x100 with 1 Axes>"
            ]
          },
          "metadata": {},
          "output_type": "display_data"
        },
        {
          "data": {
            "image/png": "[encoded data removed]",
            "text/plain": [
              "<Figure size 100x100 with 1 Axes>"
            ]
          },
          "metadata": {},
          "output_type": "display_data"
        },
        {
          "data": {
            "image/png": "[encoded data removed]",
            "text/plain": [
              "<Figure size 100x100 with 1 Axes>"
            ]
          },
          "metadata": {},
          "output_type": "display_data"
        }
      ],
      "source": [
        "kilka = 3\n",
        "for i in range(kilka):\n",
        "    fig, ax = plt.subplots(figsize=(1, 1), facecolor='black')\n",
        "    ax.imshow(train_images[i], cmap='gray', vmin=0, vmax=255)\n",
        "    ax.axis('off')\n",
        "    plt.show()"
      ]
    },
    {
      "cell_type": "markdown",
      "metadata": {
        "id": "tyvLX0LTPvFr"
      },
      "source": [
        "**Przepływ pracy DNN**\n",
        "1. Tworzenie architektury sieci neuronowej.\n",
        "2. Trenuj naszą sieć neuronową za pomocą danych treningowych, train_images i train_labels. Następnie sieć nauczy się kojarzyć obrazy i etykiety.\n",
        "3. Sieć wygeneruje prognozy dla test_images i sprawdzimy, czy te prognozy są zgodne z etykietami z test_labels.  \n",
        "  \n",
        "**Architektura DNN**\n",
        "1. Nasza sieć będzie składać się z sekwencji dwóch warstw `Dense`, które są gęsto połączonymi (zwanymi również \"w pełni połączonymi\") warstwami neuronowymi.\n",
        "2. Druga (i ostatnia) warstwa to 10-kierunkowa warstwa \"softmax\", co oznacza, że zwróci ona tablicę 10 wyników prawdopodobieństwa (sumujących się do 1). Każdy wynik będzie prawdopodobieństwem, że bieżący obraz cyfry należy do jednej z naszych 10 klas cyfr.\n",
        "\n",
        "Trening DNN\n",
        "Aby nasza sieć była gotowa do treningu, musimy wybrać jeszcze trzy elementy w ramach etapu \"kompilacji\":\n",
        "1. **Funkcja straty**: Jest to sposób, w jaki sieć będzie w stanie zmierzyć, jak dobrze radzi sobie z danymi treningowymi, a tym samym, w jaki sposób będzie w stanie iść we właściwym kierunku.\n",
        "2. **Optymalizator**: jest to mechanizm, za pomocą którego sieć będzie się aktualizować w oparciu o dane, które widzi i funkcję strat.\n",
        "3. **Metryki**: do monitorowania podczas szkolenia i testowania. Tutaj będziemy dbać tylko o `dokładność` (ułamek obrazów, które zostały poprawnie sklasyfikowane).\n",
        "\n",
        "Dzisiaj, podczas naszych 3 przykładów, będziemy używać tylko klasy Sequential. Podczas naszych następnych spotkań przedstawię funkcjonalne API, w którym będziemy mogli manipulować tensorami danych przetwarzanymi przez model i stosować warstwy do tych tensorów tak, jakby były funkcjami.\n"
      ]
    },
    {
      "cell_type": "markdown",
      "metadata": {
        "id": "jPWO4vhYRcUQ"
      },
      "source": [
        "**Architektura sieci**"
      ]
    },
    {
      "cell_type": "code",
      "execution_count": 10,
      "metadata": {},
      "outputs": [],
      "source": [
        "from tensorflow.keras import models, layers\n",
        "network = models.Sequential()\n",
        "network.add(layers.Input(shape=(train_images.shape[1]**2,)))\n",
        "network.add(layers.Dense(512, activation='relu'))\n",
        "network.add(layers.Dense(10, activation='softmax'))"
      ]
    },
    {
      "cell_type": "markdown",
      "metadata": {
        "id": "xICk2gK6RqBx"
      },
      "source": [
        "**Trening sieci**\n",
        "\n",
        "Po zdefiniowaniu architektury modelu proces uczenia można skonfigurować na etapie kompilacji. Określamy: optymalizator, funkcję straty i metryki."
      ]
    },
    {
      "cell_type": "code",
      "execution_count": 11,
      "metadata": {
        "id": "-dIvwKkiRvoa"
      },
      "outputs": [],
      "source": [
        "network.compile(optimizer='rmsprop',\n",
        "                loss='categorical_crossentropy',\n",
        "                metrics=['accuracy'])"
      ]
    },
    {
      "cell_type": "markdown",
      "metadata": {
        "id": "2pp7U8xlR1vn"
      },
      "source": [
        "**Przygotowanie danych**\n",
        "\n",
        "Przed treningiem wstępnie przetworzymy nasze dane, przekształcając je w kształt oczekiwany przez sieć i skalując tak, aby wszystkie wartości mieściły się w przedziale [0, 1].\n",
        "\n",
        "Nasze obrazy treningowe są przechowywane w tablicy o kształcie (60000, 28, 28) typu uint8 z wartościami w przedziale [0, 255].\n",
        "\n",
        "Przekształć je w tablicę float32 typu shape (60000, 28 * 28) z wartościami od 0 do 1.\n",
        "Niezbędne funkcje: `reshape` i `astype`.\n",
        "\n",
        "**Wykonaj to zarówno dla przykładów treningowych, jak i testowych.**"
      ]
    },
    {
      "cell_type": "code",
      "execution_count": 12,
      "metadata": {},
      "outputs": [],
      "source": [
        "train_images_reshaped = train_images.reshape((60_000, 28*28)).astype(np.float32)/255.0"
      ]
    },
    {
      "cell_type": "code",
      "execution_count": 13,
      "metadata": {},
      "outputs": [],
      "source": [
        "test_images_reshaped = test_images.reshape((10_000, 28*28)).astype(np.float32)/255.0"
      ]
    },
    {
      "cell_type": "markdown",
      "metadata": {
        "id": "75qoxtmBSTdO"
      },
      "source": [
        "Ponieważ używamy funkcji straty `categorical_crossentropy`, musimy przekonwertować format danych:"
      ]
    },
    {
      "cell_type": "code",
      "execution_count": 14,
      "metadata": {
        "id": "1izRkD_LSaJY"
      },
      "outputs": [],
      "source": [
        "from keras.utils import to_categorical\n",
        "\n",
        "train_labels = to_categorical(train_labels)\n",
        "test_labels = to_categorical(test_labels)"
      ]
    },
    {
      "cell_type": "markdown",
      "metadata": {
        "id": "JCvN2vJASgWX"
      },
      "source": [
        "**Dopasowanie modelu**\n",
        "\n",
        "Aby wytrenować naszą sieć, wywołujemy metodę dopasowania sieci z parametrami epochs i batch_size. Ustawmy epochs na 5, a batch_size na 128."
      ]
    },
    {
      "cell_type": "code",
      "execution_count": 15,
      "metadata": {},
      "outputs": [
        {
          "name": "stdout",
          "output_type": "stream",
          "text": [
            "Epoch 1/5\n",
            "\u001b[1m469/469\u001b[0m \u001b[32m━━━━━━━━━━━━━━━━━━━━\u001b[0m\u001b[37m\u001b[0m \u001b[1m1s\u001b[0m 3ms/step - accuracy: 0.8744 - loss: 0.4333\n",
            "Epoch 2/5\n",
            "\u001b[1m469/469\u001b[0m \u001b[32m━━━━━━━━━━━━━━━━━━━━\u001b[0m\u001b[37m\u001b[0m \u001b[1m1s\u001b[0m 2ms/step - accuracy: 0.9643 - loss: 0.1204\n",
            "Epoch 3/5\n",
            "\u001b[1m469/469\u001b[0m \u001b[32m━━━━━━━━━━━━━━━━━━━━\u001b[0m\u001b[37m\u001b[0m \u001b[1m1s\u001b[0m 2ms/step - accuracy: 0.9775 - loss: 0.0739\n",
            "Epoch 4/5\n",
            "\u001b[1m469/469\u001b[0m \u001b[32m━━━━━━━━━━━━━━━━━━━━\u001b[0m\u001b[37m\u001b[0m \u001b[1m1s\u001b[0m 2ms/step - accuracy: 0.9844 - loss: 0.0512\n",
            "Epoch 5/5\n",
            "\u001b[1m469/469\u001b[0m \u001b[32m━━━━━━━━━━━━━━━━━━━━\u001b[0m\u001b[37m\u001b[0m \u001b[1m1s\u001b[0m 2ms/step - accuracy: 0.9891 - loss: 0.0365\n"
          ]
        },
        {
          "data": {
            "text/plain": [
              "<keras.src.callbacks.history.History at 0x109a530d0>"
            ]
          },
          "execution_count": 15,
          "metadata": {},
          "output_type": "execute_result"
        }
      ],
      "source": [
        "#TODO: naprawic\n",
        "network.fit(train_images_reshaped, train_labels, batch_size=128, epochs=5)"
      ]
    },
    {
      "cell_type": "markdown",
      "metadata": {
        "id": "3p_Lx8NzSvWo"
      },
      "source": [
        "**Ocena sieci/Ewaluacja**\n",
        "\n",
        "Podczas treningu wyświetlane są dwie wielkości: \"strata\" sieci na danych szkoleniowych oraz dokładność sieci na danych szkoleniowych.\n",
        "Szybko osiągamy dokładność 0,989 (tj. 98,9%) na danych treningowych.\n",
        "\n",
        "Teraz sprawdźmy, czy nasz model działa dobrze również na zestawie testowym:"
      ]
    },
    {
      "cell_type": "code",
      "execution_count": 18,
      "metadata": {
        "id": "LRb3leqhS7l2"
      },
      "outputs": [
        {
          "name": "stdout",
          "output_type": "stream",
          "text": [
            "\u001b[1m313/313\u001b[0m \u001b[32m━━━━━━━━━━━━━━━━━━━━\u001b[0m\u001b[37m\u001b[0m \u001b[1m0s\u001b[0m 791us/step - accuracy: 0.9754 - loss: 0.0747\n",
            "test_acc: 0.979200005531311\n"
          ]
        }
      ],
      "source": [
        "test_loss, test_acc = network.evaluate(test_images_reshaped, test_labels)\n",
        "\n",
        "print('test_acc:', test_acc)"
      ]
    },
    {
      "cell_type": "markdown",
      "metadata": {
        "id": "-3jkpKtJTBWW"
      },
      "source": [
        "Dokładność naszego zestawu testowego okazuje się wynosić 97,8% - to znacznie mniej niż dokładność zestawu treningowego.\n",
        "Ta różnica między dokładnością treningu a dokładnością testu jest przykładem \"**nadmiernego dopasowania**\", czyli faktu, że modele uczenia maszynowego mają tendencję do osiągania gorszych wyników na nowych danych niż na danych treningowych.\n"
      ]
    }
  ],
  "metadata": {
    "colab": {
      "provenance": []
    },
    "kernelspec": {
      "display_name": "deep_learning_pieta",
      "language": "python",
      "name": "python3"
    },
    "language_info": {
      "codemirror_mode": {
        "name": "ipython",
        "version": 3
      },
      "file_extension": ".py",
      "mimetype": "text/x-python",
      "name": "python",
      "nbconvert_exporter": "python",
      "pygments_lexer": "ipython3",
      "version": "3.10.16"
    }
  },
  "nbformat": 4,
  "nbformat_minor": 0
}
